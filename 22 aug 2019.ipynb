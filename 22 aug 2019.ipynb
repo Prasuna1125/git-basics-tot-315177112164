{
 "cells": [
  {
   "cell_type": "markdown",
   "metadata": {},
   "source": [
    "### FILES in python"
   ]
  },
  {
   "cell_type": "markdown",
   "metadata": {},
   "source": [
    "#### 3steps\n",
    "- 1.open file by specifing operation\n",
    "- 2.do your required operation\n",
    "- 3.close the file which is opened\n"
   ]
  },
  {
   "cell_type": "markdown",
   "metadata": {},
   "source": [
    "### read the data book.txt"
   ]
  },
  {
   "cell_type": "code",
   "execution_count": 1,
   "metadata": {},
   "outputs": [
    {
     "name": "stdout",
     "output_type": "stream",
     "text": [
      "hello\n"
     ]
    }
   ],
   "source": [
    "fh = open('book.txt','r')\n",
    "\n",
    "data = fh.read()\n",
    "print(data)\n",
    "\n",
    "fh.close()"
   ]
  },
  {
   "cell_type": "markdown",
   "metadata": {},
   "source": [
    "### write data into mystory.txt\n"
   ]
  },
  {
   "cell_type": "code",
   "execution_count": 3,
   "metadata": {},
   "outputs": [
    {
     "name": "stdout",
     "output_type": "stream",
     "text": [
      "this is my story\n"
     ]
    }
   ],
   "source": [
    "fh = open('mystory.txt','w')\n",
    "\n",
    "content = 'this is my story'\n",
    "fh.write(content)\n",
    "print(content)\n",
    "\n",
    "fh.close()"
   ]
  },
  {
   "cell_type": "code",
   "execution_count": 25,
   "metadata": {},
   "outputs": [],
   "source": [
    "fh1 = open('book.txt','r')\n",
    "fh2 = open('mystory.txt','w')\n",
    "data = fh1.read()\n",
    "fh2.write(data)\n",
    "fh1.close()\n",
    "fh2.close()"
   ]
  },
  {
   "cell_type": "code",
   "execution_count": 26,
   "metadata": {},
   "outputs": [],
   "source": [
    "fh = open('mystory.txt','w')\n",
    "\n",
    "content = 'this is my story'\n",
    "fh.write(content)\n",
    "fh.write('this is second story')\n",
    "\n",
    "fh.close()"
   ]
  },
  {
   "cell_type": "code",
   "execution_count": 12,
   "metadata": {},
   "outputs": [],
   "source": [
    "fh = open('mystory.txt','r')\n",
    "\n",
    "data = fh.read()\n",
    "data = fh.read()\n",
    "\n",
    "fh.close()"
   ]
  },
  {
   "cell_type": "code",
   "execution_count": 13,
   "metadata": {},
   "outputs": [
    {
     "name": "stdout",
     "output_type": "stream",
     "text": [
      "this is my storythis is second story\n"
     ]
    }
   ],
   "source": [
    "fh = open('mystory.txt','r')\n",
    "\n",
    "data1 = fh.read()\n",
    "data2 = fh.read()\n",
    "print(data1)\n",
    "\n",
    "fh.close()"
   ]
  },
  {
   "cell_type": "code",
   "execution_count": 15,
   "metadata": {},
   "outputs": [
    {
     "name": "stdout",
     "output_type": "stream",
     "text": [
      "\n"
     ]
    }
   ],
   "source": [
    "fh = open('mystory.txt','r')\n",
    "\n",
    "data1 = fh.read()\n",
    "data2 = fh.read()\n",
    "print(data2)\n",
    "\n",
    "fh.close()"
   ]
  },
  {
   "cell_type": "markdown",
   "metadata": {},
   "source": [
    "### tell()\n",
    "- to know the position of the cursor\n"
   ]
  },
  {
   "cell_type": "code",
   "execution_count": 16,
   "metadata": {},
   "outputs": [
    {
     "name": "stdout",
     "output_type": "stream",
     "text": [
      "cursor 0\n",
      "cursor 36\n"
     ]
    }
   ],
   "source": [
    "fh = open('mystory.txt','r')\n",
    "print('cursor',fh.tell())\n",
    "data1 = fh.read()\n",
    "print('cursor',fh.tell())\n",
    "\n",
    "fh.close()"
   ]
  },
  {
   "cell_type": "code",
   "execution_count": 22,
   "metadata": {},
   "outputs": [
    {
     "name": "stdout",
     "output_type": "stream",
     "text": [
      "cursor 36\n",
      "cursor 0\n",
      "this is my storythis is second story\n"
     ]
    }
   ],
   "source": [
    "fh = open('mystory.txt','r')\n",
    "fh.read()\n",
    "print('cursor',fh.tell())\n",
    "\n",
    "fh.seek(0)\n",
    "\n",
    "print('cursor',fh.tell())\n",
    "data = fh.read()\n",
    "print(data)\n",
    "\n",
    "fh.close()"
   ]
  },
  {
   "cell_type": "code",
   "execution_count": 20,
   "metadata": {},
   "outputs": [
    {
     "name": "stdout",
     "output_type": "stream",
     "text": [
      "cursor 36\n",
      "cursor 12\n"
     ]
    }
   ],
   "source": [
    "fh = open('mystory.txt','r')\n",
    "fh.read()\n",
    "print('cursor',fh.tell())\n",
    "\n",
    "fh.seek(12)\n",
    "\n",
    "print('cursor',fh.tell())\n",
    "\n",
    "fh.close()"
   ]
  },
  {
   "cell_type": "code",
   "execution_count": 23,
   "metadata": {},
   "outputs": [
    {
     "name": "stdout",
     "output_type": "stream",
     "text": [
      "cursor 36\n",
      "cursor 10\n",
      " storythis is second story\n"
     ]
    }
   ],
   "source": [
    "fh = open('mystory.txt','r')\n",
    "fh.read()\n",
    "print('cursor',fh.tell())\n",
    "\n",
    "fh.seek(10)\n",
    "\n",
    "print('cursor',fh.tell())\n",
    "data = fh.read()\n",
    "print(data)\n",
    "\n",
    "fh.close()"
   ]
  },
  {
   "cell_type": "code",
   "execution_count": 24,
   "metadata": {},
   "outputs": [],
   "source": [
    "fh = open('mystory.txt','a')\n",
    "\n",
    "fh.write('story 3')\n",
    "\n",
    "fh.close()"
   ]
  },
  {
   "cell_type": "code",
   "execution_count": 37,
   "metadata": {},
   "outputs": [],
   "source": [
    "import re"
   ]
  },
  {
   "cell_type": "code",
   "execution_count": null,
   "metadata": {},
   "outputs": [],
   "source": []
  },
  {
   "cell_type": "code",
   "execution_count": 17,
   "metadata": {},
   "outputs": [],
   "source": [
    "fh1 = open('book.txt','r')\n",
    "fh2 = open('mystory.txt','w')\n",
    "data=fh1.read().strip()\n",
    "numbers = re.findall('\\d+',data)\n",
    "for each in numbers:\n",
    "    data2 = fh2.write(each+'\\n')\n",
    "    print(data2)\n",
    "fh1.close()\n",
    "fh2.close()"
   ]
  },
  {
   "cell_type": "code",
   "execution_count": 43,
   "metadata": {},
   "outputs": [
    {
     "name": "stdout",
     "output_type": "stream",
     "text": [
      "line 1\n",
      "\n",
      "line 2 \n",
      "\n",
      "line 3\n",
      "\n",
      "line 4\n",
      "\n"
     ]
    }
   ],
   "source": [
    "fh = open('book.txt')\n",
    "\n",
    "for line in fh:\n",
    "    print(line)\n",
    "fh.close()"
   ]
  },
  {
   "cell_type": "code",
   "execution_count": 46,
   "metadata": {},
   "outputs": [
    {
     "name": "stdout",
     "output_type": "stream",
     "text": [
      "4\n"
     ]
    }
   ],
   "source": [
    "fh = open('book.txt')\n",
    "count = 0\n",
    "for line in fh:\n",
    "    count +=1\n",
    "    #print(line)\n",
    "print(count)\n",
    "fh.close()"
   ]
  },
  {
   "cell_type": "code",
   "execution_count": 47,
   "metadata": {},
   "outputs": [
    {
     "name": "stdout",
     "output_type": "stream",
     "text": [
      "line 3\n",
      "\n",
      "4\n"
     ]
    }
   ],
   "source": [
    "fh = open('book.txt')\n",
    "count = 0\n",
    "for line in fh:\n",
    "    count +=1\n",
    "    #print(line)\n",
    "    if count==3:\n",
    "        print(line)\n",
    "print(count)\n",
    "fh.close()"
   ]
  },
  {
   "cell_type": "markdown",
   "metadata": {},
   "source": [
    "### readline()\n",
    "-read and give the one line from cursor"
   ]
  },
  {
   "cell_type": "code",
   "execution_count": 7,
   "metadata": {},
   "outputs": [
    {
     "name": "stdout",
     "output_type": "stream",
     "text": [
      "line 2 \n",
      "\n"
     ]
    }
   ],
   "source": [
    "fh = open('book.txt','r')\n",
    "\n",
    "line1 = fh.readline()\n",
    "line2 = fh.readline()\n",
    "print(line2)\n",
    "\n",
    "fh.close()"
   ]
  },
  {
   "cell_type": "markdown",
   "metadata": {},
   "source": [
    "### readlines()\n",
    "- gives the remaining lines from cursor"
   ]
  },
  {
   "cell_type": "code",
   "execution_count": 8,
   "metadata": {},
   "outputs": [
    {
     "name": "stdout",
     "output_type": "stream",
     "text": [
      "['line 2 \\n', 'line 3\\n', 'line 4\\n']\n"
     ]
    }
   ],
   "source": [
    "fh = open('book.txt','r')\n",
    "\n",
    "line1 = fh.readline()\n",
    "line2 = fh.readlines()\n",
    "print(line2)\n",
    "\n",
    "fh.close()"
   ]
  },
  {
   "cell_type": "code",
   "execution_count": 10,
   "metadata": {},
   "outputs": [
    {
     "name": "stdout",
     "output_type": "stream",
     "text": [
      "5\n",
      "1\n",
      "line 2 \n",
      "line 3\n",
      "line 4\n",
      "\n"
     ]
    }
   ],
   "source": [
    "fh = open('book.txt','r+')\n",
    "fh.write('hello')\n",
    "print(fh.tell())\n",
    "data = fh.read()\n",
    "print(data)\n",
    "fh.close()\n",
    "\n",
    "\n",
    "\n",
    "\n",
    "fh.close()"
   ]
  },
  {
   "cell_type": "code",
   "execution_count": 12,
   "metadata": {},
   "outputs": [],
   "source": [
    "fh = open('book.txt','w+')\n",
    "fh.write('hello')\n",
    "data = fh.read()\n",
    "fh.close()\n",
    "\n"
   ]
  },
  {
   "cell_type": "markdown",
   "metadata": {},
   "source": [
    "### simple task"
   ]
  },
  {
   "cell_type": "code",
   "execution_count": null,
   "metadata": {},
   "outputs": [],
   "source": [
    "import re"
   ]
  },
  {
   "cell_type": "code",
   "execution_count": 29,
   "metadata": {},
   "outputs": [],
   "source": [
    "fh1 = open('student.txt','r')\n",
    "fh2 = open('original.txt','w')\n",
    "count = 0\n",
    "for line in fh1:\n",
    "    count += 1\n",
    "    if count == 1:\n",
    "        fh2.write(line)\n",
    "    else:\n",
    "        if (re.search('[0-5]\\d{9}',line)):\n",
    "            fh2.write(line)\n",
    "fh1.close()\n",
    "fh2.close()"
   ]
  },
  {
   "cell_type": "code",
   "execution_count": 32,
   "metadata": {},
   "outputs": [],
   "source": [
    "fh1 = open('student.txt','r')\n",
    "fh2 = open('original.txt','w')\n",
    "count = 0\n",
    "for line in fh1:\n",
    "    count += 1\n",
    "    if count == 1:\n",
    "        fh2.write(line)\n",
    "    else:\n",
    "        if (re.search('[0-5]\\d{9}$',line)):\n",
    "            fh2.write(line)\n",
    "fh1.close()\n",
    "fh2.close()"
   ]
  },
  {
   "cell_type": "code",
   "execution_count": 37,
   "metadata": {},
   "outputs": [
    {
     "name": "stdout",
     "output_type": "stream",
     "text": [
      "None\n",
      "None\n"
     ]
    }
   ],
   "source": [
    "fh1 = open('original.txt','r')\n",
    "fh2 = open('marks.txt','w')\n",
    "count = 0\n",
    "for line in fh1:\n",
    "    count +=1\n",
    "    if count == 1:\n",
    "        fh2.write(line)\n",
    "    else:\n",
    "        print(re.search('[0-3]\\d{2}$',line))\n",
    "            \n",
    "\n",
    "fh1.close()\n",
    "fh2.close()"
   ]
  },
  {
   "cell_type": "code",
   "execution_count": null,
   "metadata": {},
   "outputs": [],
   "source": []
  }
 ],
 "metadata": {
  "kernelspec": {
   "display_name": "Python 3",
   "language": "python",
   "name": "python3"
  },
  "language_info": {
   "codemirror_mode": {
    "name": "ipython",
    "version": 3
   },
   "file_extension": ".py",
   "mimetype": "text/x-python",
   "name": "python",
   "nbconvert_exporter": "python",
   "pygments_lexer": "ipython3",
   "version": "3.7.3"
  }
 },
 "nbformat": 4,
 "nbformat_minor": 2
}
